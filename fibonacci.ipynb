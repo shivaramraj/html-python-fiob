{
 "cells": [
  {
   "cell_type": "code",
   "execution_count": null,
   "metadata": {},
   "outputs": [],
   "source": [
    "def fib(n):\n",
    "    fib=[0,1]\n",
    "    for x in range(2,n):\n",
    "        fib.append(fib[x-1]+fib[x-2])\n",
    "    return fib\n",
    "x=fib(10)\n",
    "print(x)"
   ]
  },
  {
   "cell_type": "code",
   "execution_count": null,
   "metadata": {},
   "outputs": [],
   "source": [
    "n=7\n",
    "st=n\n",
    "for x in range(n):\n",
    "    for y in range(n):\n",
    "        if (x==y and x<n//2+1) or (x==4 and y==2) or (x==5 and y==1) or(x==6 and y==0):\n",
    "            print('*',end=' ')\n",
    "        else:\n",
    "            print(' ',end=' ')\n",
    "    print()\n"
   ]
  },
  {
   "cell_type": "code",
   "execution_count": null,
   "metadata": {},
   "outputs": [],
   "source": [
    "n=7\n",
    "space=0\n",
    "\n",
    "for i in range(n):\n",
    "    print('  '*space, end=' ')\n",
    "    print('*')\n",
    "    space = space+1 if i<n//2 else space-1\n"
   ]
  },
  {
   "cell_type": "code",
   "execution_count": null,
   "metadata": {},
   "outputs": [],
   "source": [
    "def print_fibonacci_pyramid(n):\n",
    "    a, b = 0, 1\n",
    "    for i in range( n):\n",
    "        for j in range( i+1):\n",
    "            print(a, end=' ')\n",
    "            a, b = b, b+a\n",
    "        print(\"\")\n",
    "\n",
    "print_fibonacci_pyramid(5)\n"
   ]
  },
  {
   "cell_type": "code",
   "execution_count": null,
   "metadata": {},
   "outputs": [],
   "source": [
    "def fibonacci_range(n):\n",
    "    if n <= 0:\n",
    "        return None\n",
    "    elif n == 1:\n",
    "        return [0]\n",
    "    elif n == 2:\n",
    "        return [0, 1]\n",
    "    else:\n",
    "        fib_list = fibonacci_range(n-1)\n",
    "        fib_list.append(fib_list[-1] + fib_list[-2])\n",
    "        return fib_list\n",
    "\n",
    "print(fibonacci_range(10)) # [0, 1, 1, 2, 3, 5, 8, 13, 21, 34]\n"
   ]
  },
  {
   "cell_type": "code",
   "execution_count": null,
   "metadata": {},
   "outputs": [],
   "source": [
    "l1=[[1,2,3],[4,5,6],[7,8,9]]\n",
    "l2=[[3,2,1],[6,5,4],[9,8,7]]\n",
    "c=[[l1[y][y]+l2[y][y]for x in range(len(l1))] for y in range(len(l2))]\n",
    "print(c)"
   ]
  },
  {
   "cell_type": "code",
   "execution_count": null,
   "metadata": {},
   "outputs": [],
   "source": [
    "f, s=0,1\n",
    "for x in range(10):\n",
    "    print(f, end=' ')\n",
    "    f, s=s,s+f\n"
   ]
  },
  {
   "cell_type": "code",
   "execution_count": null,
   "metadata": {},
   "outputs": [],
   "source": [
    "m='shivaramraj'\n",
    "v='AEIOUaeiou'\n",
    "c=0\n",
    "for x in m:\n",
    "    if x in v:\n",
    "        c+=1\n",
    "print(c)"
   ]
  },
  {
   "cell_type": "code",
   "execution_count": null,
   "metadata": {},
   "outputs": [],
   "source": [
    "s='shivaramraj'\n",
    "print(s[-1:-(len(s))-1:-1])\n",
    "# r=''\n",
    "# for x in range(-1,-(len(s))-1,-1):\n",
    "#     r+=s[x]\n",
    "# print(r)\n"
   ]
  },
  {
   "cell_type": "code",
   "execution_count": null,
   "metadata": {},
   "outputs": [],
   "source": [
    "n=8\n",
    "pos=1\n",
    "res=0\n",
    "while n!=0:\n",
    "    rem=n%2\n",
    "    n//=2\n",
    "    res=res+rem*pos\n",
    "    pos=10*pos\n",
    "print(res)"
   ]
  },
  {
   "cell_type": "code",
   "execution_count": null,
   "metadata": {},
   "outputs": [],
   "source": [
    "n=1000\n",
    "p=0\n",
    "r=0\n",
    "while n!=0:\n",
    "    rem=n%10\n",
    "    n//=10\n",
    "    r=r+(rem*2**p)\n",
    "    p+=1\n",
    "print(r)\n"
   ]
  },
  {
   "cell_type": "code",
   "execution_count": null,
   "metadata": {},
   "outputs": [],
   "source": [
    "s='shivaramraj'\n",
    "r=''\n",
    "for x in range(len(s)):\n",
    "    if s[x] not in r:\n",
    "        r+=s[x]\n",
    "print(r)"
   ]
  },
  {
   "cell_type": "code",
   "execution_count": null,
   "metadata": {},
   "outputs": [],
   "source": [
    "s='malayalam'\n",
    "for x in range(len(s)):\n",
    "    for y in range(x+1,len(s)+1):\n",
    "        n=s[x:y]\n",
    "        if n==n[::-1] and len(n)>1:\n",
    "            print(n)"
   ]
  },
  {
   "cell_type": "code",
   "execution_count": null,
   "metadata": {},
   "outputs": [],
   "source": [
    "s='mal ayal'\n",
    "r=s.split()\n",
    "m=r[-1:-(len(r))-1:-1]\n",
    "res=''.join(m)\n",
    "print(res)\n",
    "print(r)\n",
    "print(m)"
   ]
  },
  {
   "cell_type": "code",
   "execution_count": null,
   "metadata": {},
   "outputs": [],
   "source": [
    "def trangle(n):\n",
    "    for i in range(1,n+1):\n",
    "        print(' '*(n-i)+'* '*(i))\n",
    "trangle(5)"
   ]
  },
  {
   "cell_type": "code",
   "execution_count": null,
   "metadata": {},
   "outputs": [],
   "source": [
    "def squre(n):\n",
    "    for x in range(1,n+1):\n",
    "        print('* '*n)\n",
    "    print()\n",
    "squre(6)\n"
   ]
  },
  {
   "cell_type": "code",
   "execution_count": null,
   "metadata": {},
   "outputs": [],
   "source": [
    "n=5\n",
    "for x in range(n):\n",
    "    print(' *'*n)\n",
    "print()"
   ]
  },
  {
   "cell_type": "code",
   "execution_count": null,
   "metadata": {},
   "outputs": [],
   "source": [
    "s='shivaramraj'\n",
    "a=''\n",
    "for x in s:\n",
    "    if x not in a:\n",
    "        a+=x\n",
    "        print(f'{x}={s.count(x)}')"
   ]
  },
  {
   "cell_type": "code",
   "execution_count": null,
   "metadata": {},
   "outputs": [],
   "source": [
    "def fib(n):\n",
    "    fib=[0,1]\n",
    "    for x in range(2,n):\n",
    "        fib.append(fib[x-2]+fib[x-1])\n",
    "    return fib\n",
    "n=int(input('enter number'))\n",
    "x=fib(n)\n",
    "o=x[::2]\n",
    "e=x[-2:-(len(x)+1):-2]\n",
    "r=o+e\n",
    "n=int(input('entr number'))\n",
    "space=0\n",
    "for i in range(n):\n",
    "    print('  '*space,end=' ')\n",
    "    print(r[i])\n",
    "    space = space+1 if i<n//2 else space-1\n"
   ]
  },
  {
   "cell_type": "code",
   "execution_count": null,
   "metadata": {},
   "outputs": [],
   "source": [
    "def fib(n):\n",
    "    fib=[0,1]\n",
    "    for x in range(2,n):\n",
    "        fib.append(fib[x-2]+fib[x-1])\n",
    "    return fib\n",
    "n=int(input('enter number'))\n",
    "x=fib(n)\n",
    "o=x[::2]\n",
    "e=x[-2:-(len(x)+1):-2]\n",
    "r=o+e\n",
    "space=1\n",
    "for i in range(n):\n",
    "    print('  '*(n-space), end=' ')\n",
    "    print(r[i])\n",
    "    space = space+1 if i<n//2 else space-1\n"
   ]
  },
  {
   "cell_type": "code",
   "execution_count": null,
   "metadata": {},
   "outputs": [],
   "source": [
    "l=[1,2,3,4,6,75,3,2,7,8]\n",
    "r=set(l)\n",
    "print(r)"
   ]
  },
  {
   "cell_type": "code",
   "execution_count": null,
   "metadata": {},
   "outputs": [],
   "source": [
    "# def longest_word(string):\n",
    "#     words = string.split()\n",
    "#     longest_word =max(words, key=len)\n",
    "#     print(longest_word)\n",
    "#     return longest_word\n",
    "\n",
    "# string = \"This is an example sentence.\"\n",
    "# print(longest_word(string))\n"
   ]
  },
  {
   "cell_type": "code",
   "execution_count": null,
   "metadata": {},
   "outputs": [],
   "source": [
    "def logword(n):\n",
    "    word=n.split()\n",
    "    lenth=''\n",
    "    lenthw=0\n",
    "    for x in word:\n",
    "        if len(x)>lenthw:\n",
    "            lenth=x\n",
    "            lenthw=len(word)\n",
    "        return lenth\n",
    "logword='shiva is a good boy'\n",
    "print(logword)"
   ]
  },
  {
   "cell_type": "code",
   "execution_count": null,
   "metadata": {},
   "outputs": [],
   "source": [
    "size =7\n",
    "n=size\n",
    "b=0\n",
    "while size>0:\n",
    "    print('   '*b+'*')\n",
    "    size-=1\n",
    "    b=b-1 if size<n//2+1 else b+1"
   ]
  },
  {
   "cell_type": "code",
   "execution_count": null,
   "metadata": {},
   "outputs": [],
   "source": [
    "def trangle(n,s):\n",
    "    sp=n-1\n",
    "    while n>0:\n",
    "        print(f'{\"  \"*sp} {\" *\"*s} ')\n",
    "        # print(' '*n+'*'*s\n",
    "        n-=1\n",
    "        s+=2\n",
    "        sp-=1\n",
    "trangle(n=5,s=1)"
   ]
  },
  {
   "cell_type": "code",
   "execution_count": null,
   "metadata": {},
   "outputs": [],
   "source": [
    "trangle(7,1)"
   ]
  },
  {
   "cell_type": "code",
   "execution_count": null,
   "metadata": {},
   "outputs": [],
   "source": [
    "n=5\n",
    "m=n\n",
    "r=n//2\n",
    "s=1\n",
    "while n>0:\n",
    "    print('  '*(r)+'* '*s)\n",
    "    s=s+2 if n>m-2 else s-2\n",
    "    r=r-1 if n>m-2 else r+1\n",
    "    n-=1\n"
   ]
  },
  {
   "cell_type": "code",
   "execution_count": null,
   "metadata": {},
   "outputs": [],
   "source": [
    "n=5\n",
    "sp=n//2\n",
    "st=1\n",
    "for x in range(n):\n",
    "    for y in range(sp):\n",
    "        print(' ',end=' ')\n",
    "    for z in range(st):\n",
    "        print('*',end=' ')\n",
    "    print()\n",
    "    if x<n//2:\n",
    "        st+=2\n",
    "        sp-=1\n",
    "    else:\n",
    "        st-=2\n",
    "        sp+=1"
   ]
  },
  {
   "cell_type": "code",
   "execution_count": null,
   "metadata": {},
   "outputs": [],
   "source": [
    "l=[1,2,3,4,5,7]\n",
    "for x in range(len(l)-1):\n",
    "    for y in range(len(l)-x-1):\n",
    "        if l[y]<l[y+1]:\n",
    "            l[y],l[y+1]=l[y+1],l[y]\n",
    "print(l)\n"
   ]
  },
  {
   "cell_type": "code",
   "execution_count": null,
   "metadata": {},
   "outputs": [],
   "source": [
    "def sort(l):\n",
    "    for x in range(len(l)-1):\n",
    "        for y in range(len(l)-1-x):\n",
    "            if l[y]<l[y+1]:\n",
    "                l[y],l[y+1]=l[y+1],l[y]\n",
    "    return l\n",
    "\n",
    "    \n",
    "l=[10,55,50,70,95,13,68,23,43,]\n",
    "h=[l[x] for x in range (len(l)) if l[x]<50]\n",
    "n=[l[x] for x in range(len(l)) if l[x]>=50]\n",
    "\n",
    "r=sort(h)\n",
    "r2=sort(n)\n",
    "print(r)\n",
    "print(r2)"
   ]
  },
  {
   "cell_type": "code",
   "execution_count": null,
   "metadata": {},
   "outputs": [],
   "source": [
    "def factorial(n):\n",
    "    if n==1 or n==0:\n",
    "        return 1\n",
    "    return n*factorial(n-1)\n",
    "factorial(5)"
   ]
  },
  {
   "cell_type": "code",
   "execution_count": null,
   "metadata": {},
   "outputs": [],
   "source": [
    "def revst(n):\n",
    "    if n==-(len(s)+1):\n",
    "        return ''\n",
    "    #print(n)\n",
    "    return s[n]+revst(n-1)\n",
    "s='shivaramraj'\n",
    "revst(-1)"
   ]
  },
  {
   "cell_type": "code",
   "execution_count": null,
   "metadata": {},
   "outputs": [],
   "source": [
    "s='shiva'+'0'\n",
    "print(s)"
   ]
  },
  {
   "cell_type": "code",
   "execution_count": null,
   "metadata": {},
   "outputs": [],
   "source": [
    "a=[[1,2,3],[4,5,6],[7,8,9]]\n",
    "b=[[3,2],[6,5],[8,7]]\n",
    "result=[[0,0],[0,0],[0,0]]\n",
    "for x in range(len(a)):\n",
    "    for y in range(len(b[0])):\n",
    "        for z in range(len(a)):\n",
    "\n",
    "            result[x][y]+=a[x][z]*b[z][y]\n",
    "print(result)"
   ]
  },
  {
   "cell_type": "code",
   "execution_count": null,
   "metadata": {},
   "outputs": [],
   "source": [
    "import numpy as np\n",
    "#matrix = [[0,0], [0,0], [0,0]]\n",
    "matrix = np.zeros((3,2))\n",
    "print(matrix)\n"
   ]
  },
  {
   "cell_type": "code",
   "execution_count": null,
   "metadata": {},
   "outputs": [],
   "source": [
    "import numpy as np\n",
    "\n",
    "matrix_A = np.array([[1,2,3], [4,5,6], [7,8,9]])\n",
    "matrix_B = np.array([[1,2], [3,4], [5,6]])\n",
    "\n",
    "result = np.matmul(matrix_A, matrix_B)\n",
    "print(result)"
   ]
  },
  {
   "cell_type": "code",
   "execution_count": null,
   "metadata": {},
   "outputs": [],
   "source": [
    "matrix_A = [[1,2,3], [4,5,6], [7,8,9]]\n",
    "matrix_B = [[1,2], [3,4], [5,6]]\n",
    "\n",
    "result = [[0,0], [0,0], [0,0]]\n",
    "\n",
    "for i in range(len(matrix_A)):\n",
    "    for j in range(len(matrix_B[0])):\n",
    "        for k in range(len(matrix_B)):\n",
    "            result[i][j] += matrix_A[i][k] * matrix_B[k][j]\n",
    "\n",
    "print(result)\n"
   ]
  },
  {
   "cell_type": "code",
   "execution_count": null,
   "metadata": {},
   "outputs": [],
   "source": []
  },
  {
   "cell_type": "code",
   "execution_count": null,
   "metadata": {},
   "outputs": [],
   "source": [
    "import numpy as np\n",
    "a1=np.array(([1,4,5],[4,5,8],[9,6,7]))\n",
    "a2=np.array(([4,3],[9,5],[1,7]))\n",
    "for x in range(len(a1)):\n",
    "    for y in range(len(a2[0])):\n",
    "        for z in range(len(a1)):\n",
    "            print()\n"
   ]
  },
  {
   "cell_type": "code",
   "execution_count": null,
   "metadata": {},
   "outputs": [],
   "source": [
    "class Bank():\n",
    "    Bname='shiva'\n",
    "    cno=1234\n",
    "    def __init__(self,name,acc,__mobile,adhar):\n",
    "        self.name=name\n",
    "        self.acc=acc\n",
    "        self.__mobile=__mobile\n",
    "        self.adhar=adhar\n",
    "    def getter(self):\n",
    "        return self.__mobile\n",
    "    def setter(self):\n",
    "        n=int(input('enter new mobile number'))\n",
    "        self.__mobile=n\n",
    "\n",
    "class bal(Bank):\n",
    "    def __init__(self,name,acc,__mobile,adhar,baln,pin):\n",
    "        super().__init__(name,acc,__mobile,adhar)\n",
    "        self.baln=baln\n",
    "        self.pin=pin\n",
    "    def checkbal(self):\n",
    "        if self.pin==bal.getpin():\n",
    "            print(f'your current balance is {self.baln}')\n",
    "        else:\n",
    "            print('incorrect pin ')\n",
    "    def deposit(self):\n",
    "        n=int(input('enter balence to deposite:'))\n",
    "        self.baln+=n\n",
    "    def withdraw(self):\n",
    "        amt=int(input('enter amount to withdraw :'))\n",
    "        if self.pin==self.getpin():\n",
    "            if self.baln>amt:\n",
    "                self.baln-=amt\n",
    "                print(f'amount {amt} debited sucessfully')\n",
    "                print(f'your current balance is {self.baln}')\n",
    "            else:\n",
    "                print('you have insufficiant amount')\n",
    "        else:\n",
    "            print('please check ur pin')\n",
    "\n",
    "    @staticmethod\n",
    "    def getpin():\n",
    "        return int(input('enter pin'))\n",
    "\n",
    "\n",
    "obj=bal('shiva',397668,7644677,998879975,5000,8004)\n",
    "obj.checkbal()\n",
    "obj.withdraw()\n",
    "#obj.checkbal()\n",
    "#obj.setter()\n",
    "#obj.getter()"
   ]
  },
  {
   "cell_type": "code",
   "execution_count": null,
   "metadata": {},
   "outputs": [],
   "source": [
    "class s():\n",
    "    def __init__(self):\n",
    "        print('panent class constructer called')\n",
    "class v(s):\n",
    "    def __init__(self):\n",
    "        super().__init__()\n",
    "        print('chilid class construct called')\n",
    "class e(v,s):\n",
    "    def __init__(self):\n",
    "        super().__init__()\n",
    "        print('grand child class constructer')\n",
    "class d(e,v):\n",
    "    def __init__(self):\n",
    "        super().__init__()\n",
    "        print('grand child2 class constructer')\n",
    "ob=d()\n"
   ]
  },
  {
   "cell_type": "code",
   "execution_count": null,
   "metadata": {},
   "outputs": [],
   "source": [
    "def outer(arg):\n",
    "    print('1'*5)\n",
    "    print(arg)\n",
    "    d={}\n",
    "    print('outer function is called')\n",
    "    def inner():\n",
    "        print('inner function is called')\n",
    "        if arg not in d:\n",
    "            print('*'*20)\n",
    "            d[arg]=arg()\n",
    "            # print(d)\n",
    "        return d[arg]\n",
    "    # print('a')\n",
    "    # print(inner)\n",
    "    return inner\n",
    "@outer\n",
    "class shiva():\n",
    "    def __init__(self) -> None:\n",
    "        print('class constructer is called')\n",
    "        print('obj is created')\n",
    "    def show(self):\n",
    "        print('@'*5)\n",
    "print(shiva)\n",
    "obj=shiva()\n",
    "# print(obj,'*'*5)\n",
    "# obj.show()\n",
    "# # boj2=shiva()\n"
   ]
  },
  {
   "cell_type": "code",
   "execution_count": null,
   "metadata": {},
   "outputs": [],
   "source": [
    "def outer(arg):\n",
    "    def inner(a,b):\n",
    "        arg(a,b) if a>b else arg(b,a)\n",
    "    return inner\n",
    "@outer\n",
    "def sum(x,y):\n",
    "    print(int(x/y))\n",
    "x=sum(2,20)"
   ]
  },
  {
   "cell_type": "code",
   "execution_count": null,
   "metadata": {},
   "outputs": [],
   "source": [
    "def voche(r):\n",
    "    ow='aeiouAEIOU'\n",
    "    c=0\n",
    "    for x in range(len(r)):\n",
    "        if r[x] in ow:\n",
    "            return r\n",
    "        #return c\n",
    "        \n",
    "\n",
    "\n",
    "s='shiva is good as sky grvn'\n",
    "n=s.split()\n",
    "n=list(filter(voche,n))\n",
    "print(len(n))"
   ]
  },
  {
   "cell_type": "code",
   "execution_count": null,
   "metadata": {},
   "outputs": [],
   "source": [
    "s='aaaabbbcccrrrg'\n",
    "c=0\n",
    "r=''\n",
    "# for x in range(len(s)-1):\n",
    "#     # print(x,s[x+1])\n",
    "#     if s[x]==s[x+1]:\n",
    "#        c+=1\n",
    "#     else:\n",
    "#         r+=str(c)+s[x]\n",
    "#         c=1\n",
    "# r+=str(c)+s[x+1]\n",
    "# print(r)\n",
    "for y in s:\n",
    "    if y not in r:\n",
    "        r+=y\n",
    "\n",
    "        print(f'{y}={s.count(y)} ')\n",
    "print(r)"
   ]
  },
  {
   "cell_type": "code",
   "execution_count": null,
   "metadata": {},
   "outputs": [],
   "source": [
    "n=5\n",
    "c=0\n",
    "l=[]\n",
    "for x in range(1,n+1):\n",
    "    for y in range(1,n+1):\n",
    "        if x!=y:\n",
    "            c+=y\n",
    "        else:\n",
    "            continue\n",
    "    #print(c)\n",
    "    l.append(c)\n",
    "    print(c)\n",
    "    c=0\n",
    "print(max(l),min(l))"
   ]
  },
  {
   "cell_type": "code",
   "execution_count": null,
   "metadata": {},
   "outputs": [],
   "source": [
    "s='shiva'\n",
    "s[1:1:1]"
   ]
  },
  {
   "cell_type": "code",
   "execution_count": null,
   "metadata": {},
   "outputs": [],
   "source": [
    "# n=9\n",
    "# o,e=[],[]\n",
    "# for i in range(1,n+1):\n",
    "#     if i%2==1:\n",
    "#         o.append(i)\n",
    "#     else:\n",
    "#         e.append(i)\n",
    "# l=o+e[::-1]\n",
    "# sp=0\n",
    "# st=1\n",
    "# for r in range(n):\n",
    "#     for a in range(sp):\n",
    "#         print(' ',end=' ')\n",
    "#     for c in range(st):\n",
    "#         print(l[r],end=' ')\n",
    "#     if r<n//2:\n",
    "#         sp+=1\n",
    "#     else:\n",
    "#         sp-=1\n",
    "#     print()\n",
    "n=11\n",
    "sp=0\n",
    "for x in range(n):\n",
    "    print('   '*sp+'*')\n",
    "    sp=sp+1 if x<n//2 else sp-1\n"
   ]
  },
  {
   "cell_type": "code",
   "execution_count": null,
   "metadata": {},
   "outputs": [],
   "source": [
    "s='aaaabbbcccdd'\n",
    "d={}\n",
    "for x in s:\n",
    "    if x not in d:\n",
    "        d[x]=s.count(x)\n",
    "val=list(d.values())\n",
    "val.sort(reverse=True)\n",
    "print(val)\n",
    "r=val[1]\n",
    "for k,v in d.items():\n",
    "    if r==v:\n",
    "        print(k)\n"
   ]
  },
  {
   "cell_type": "code",
   "execution_count": null,
   "metadata": {},
   "outputs": [],
   "source": [
    "l=[]\n",
    "for x in range(50,100):\n",
    "    if len(l)<9:\n",
    "        for y in range(2,x//2+1):\n",
    "            if x%y==0:\n",
    "                break\n",
    "        else:\n",
    "            l.append(x)\n",
    "for r in l:\n",
    "    print(r,end=' ')"
   ]
  },
  {
   "cell_type": "code",
   "execution_count": null,
   "metadata": {},
   "outputs": [],
   "source": [
    "n=5\n",
    "for x in range(1,n+1):\n",
    "    # print('  '*x+'* '*(2*n-x))\n",
    "    print('  '*(x-1),end='')\n",
    "    print('* '*(2*(n-x)+1))\n"
   ]
  },
  {
   "cell_type": "code",
   "execution_count": null,
   "metadata": {},
   "outputs": [],
   "source": [
    "n=5\n",
    "st=1\n",
    "for x in range(n):\n",
    "    print('  '*(n-x-1)+'* '*st)\n",
    "    # print('  '*x+'* '*((n*2)-1))\n",
    "    st+=2\n",
    "    # n-=1\n",
    "\n"
   ]
  },
  {
   "cell_type": "code",
   "execution_count": null,
   "metadata": {},
   "outputs": [],
   "source": [
    "def fib(n):\n",
    "    f,s=0,1\n",
    "    if n==0 or n==1:\n",
    "        return True\n",
    "    for x in range(0,n):\n",
    "        print(f)\n",
    "        if n==f and f<=n:\n",
    "            return True\n",
    "        f,s=s,f+s\n",
    "    return False\n",
    "n=int(input('enter number to check given number is fib or not'))\n",
    "fib(n)\n",
    "        "
   ]
  },
  {
   "cell_type": "code",
   "execution_count": null,
   "metadata": {},
   "outputs": [],
   "source": [
    "n=5\n",
    "s=1\n",
    "while n>0:\n",
    "    print('  '*(n-1) +'* '*s)\n",
    "    n-=1\n",
    "    s+=1\n"
   ]
  },
  {
   "cell_type": "code",
   "execution_count": null,
   "metadata": {},
   "outputs": [],
   "source": [
    "n=5\n",
    "st=1\n",
    "sp=0\n",
    "for i in range(n):\n",
    "    if  i==n//2-1 or i==n//2+1:\n",
    "        for k in range(st):\n",
    "            print('*',end=' ')\n",
    "    elif i==n//2:\n",
    "        for a in range(sp):\n",
    "            print(' ',end='')\n",
    "        for b in range(st):\n",
    "            print('*',end=' ')\n",
    "    for j in range(sp):\n",
    "        print(' ',end='')\n",
    "    for k in range(st):\n",
    "        print('*',end=' ')\n",
    "    print()\n",
    "    if i<n//2:\n",
    "        sp+=1\n",
    "    else:\n",
    "        sp-=1"
   ]
  },
  {
   "cell_type": "code",
   "execution_count": null,
   "metadata": {},
   "outputs": [],
   "source": [
    "class itarator():\n",
    "    def __init__(self,start,end,update) -> None:\n",
    "        self.start=start\n",
    "        self.end=end\n",
    "        self.uodate=update\n",
    "        self.a,self.b=0,1\n",
    "    def __iter__(self):\n",
    "        return self\n",
    "    def __next__(self):\n",
    "        n=self.start\n",
    "        f,s=0,1\n",
    "        if self.start>=self.end:\n",
    "            raise StopIteration\n",
    "        self.start+=1\n",
    "        r=self.a\n",
    "        self.a,self.b=self.b,self.a+self.b\n",
    "        return r\n",
    "obj=itarator(0,10,1)\n",
    "for x in obj:\n",
    "    print(x)\n",
    "        \n",
    "\n",
    "        "
   ]
  },
  {
   "cell_type": "code",
   "execution_count": null,
   "metadata": {},
   "outputs": [],
   "source": [
    "n=7\n",
    "sp=n//2\n",
    "r=0\n",
    "for x in range(n):\n",
    "    print('   '*sp+'*')\n",
    "    # print('   '*r+'*')\n",
    "    sp=sp-1 if x<n//2 else sp+1\n",
    "    # r=r-1 if x>(n//2)-1 else r+1\n"
   ]
  },
  {
   "cell_type": "code",
   "execution_count": null,
   "metadata": {},
   "outputs": [],
   "source": [
    "def genarator(n):\n",
    "    # t=1\n",
    "    # if n==0 or n==1:\n",
    "    #     return 1\n",
    "    for r in range(0,n):\n",
    "        # t=t*r\n",
    "        yield r\n",
    "g=genarator(7)\n",
    "for y in g:\n",
    "    print(y)"
   ]
  },
  {
   "cell_type": "code",
   "execution_count": null,
   "metadata": {},
   "outputs": [],
   "source": [
    "l=[1,1,1,2,2,2,3,32,21,34,55,3,1]\n",
    "d={}\n",
    "for x in l:\n",
    "    if x not in d:\n",
    "        d[x]=1\n",
    "    else:\n",
    "        d[x]+=1\n",
    "print(d)\n",
    "vl=list(d.values())\n",
    "r=min(vl)\n",
    "for k,v in d.items():\n",
    "    if r==v:\n",
    "        print(k)\n",
    "    # print(k,v)"
   ]
  },
  {
   "cell_type": "code",
   "execution_count": null,
   "metadata": {},
   "outputs": [],
   "source": [
    "n=11\n",
    "sp=1\n",
    "a=n//2-1\n",
    "r=n//2-1\n",
    "for x in range(n):\n",
    "    if x==0 or x==n-1:\n",
    "        print('a'*a+'||*||'+'a'*a)\n",
    "    else:\n",
    "        print('a'*r+'* '+'  '*sp+'*'+'a'*r)\n",
    "        sp=sp+1 if x<n//2 else sp-1\n",
    "        r=r-1 if x<n//2 else r+1"
   ]
  },
  {
   "cell_type": "code",
   "execution_count": null,
   "metadata": {},
   "outputs": [],
   "source": [
    "n=7\n",
    "a=0\n",
    "for x in range(n):\n",
    "    print('@ '*a+'* '*(n-1))\n",
    "    a=a+1 \n",
    "    n=n-1"
   ]
  },
  {
   "cell_type": "code",
   "execution_count": null,
   "metadata": {},
   "outputs": [],
   "source": [
    "# l=[[x,y,z]for x in range(5) for y in range(5) for z in range(5) if x==y==z]\n",
    "# print(l)\n",
    "l=[[i,i,i] for i in range(5)]\n",
    "print(l)"
   ]
  },
  {
   "cell_type": "code",
   "execution_count": null,
   "metadata": {},
   "outputs": [],
   "source": [
    "l=[]\n",
    "for x in range(1,11):\n",
    "    l.append([x]*3)\n",
    "print(l)"
   ]
  },
  {
   "cell_type": "code",
   "execution_count": null,
   "metadata": {},
   "outputs": [],
   "source": [
    "# class itarater():\n",
    "#     def __init__(self,start,end):\n",
    "#         self.start=start\n",
    "#         self.end=end\n",
    "#         self.f,self.s=0,1\n",
    "#     def __iter__(self):\n",
    "#         return self \n",
    "#     def __next__(self):\n",
    "#         n=self.f\n",
    "#         if self.start>=self.end:\n",
    "#             raise StopIteration\n",
    "#         self.start+=1\n",
    "#         self.f,self.s=self.s,self.f+self.s\n",
    "#         return n\n",
    "# j=itarater(0,10)\n",
    "# for x in (j):\n",
    "#     print(x)\n",
    "\n",
    "\n",
    "\n",
    "class itarator():\n",
    "    def __init__(self,start,end,update=0) -> None:\n",
    "        self.start=start\n",
    "        self.end=end\n",
    "        self.uodate=update\n",
    "        self.a,self.b=0,1\n",
    "    def __iter__(self):\n",
    "        return self\n",
    "    def __next__(self):\n",
    "        f,s=0,1\n",
    "        if self.start>=self.end:\n",
    "            raise StopIteration\n",
    "        self.start+=1\n",
    "        r=self.a\n",
    "        self.a,self.b=self.b,self.a+self.b\n",
    "        return r\n",
    "obj=itarator(0,10,1)\n",
    "for x in obj:\n",
    "    print(x)\n",
    "        \n",
    "\n",
    "        \n",
    "        \n",
    "\n",
    "        \n",
    "\n"
   ]
  },
  {
   "cell_type": "code",
   "execution_count": null,
   "metadata": {},
   "outputs": [],
   "source": [
    "def prime(n):\n",
    "    if n>1:\n",
    "        for x in range(2,n//2+1):\n",
    "            if n%x==0:\n",
    "                break\n",
    "        else:\n",
    "            return n\n",
    "l=[1,2,3,4,5,6,7,8]\n",
    "r=list(filter(prime,l))\n",
    "print(r)"
   ]
  },
  {
   "cell_type": "code",
   "execution_count": null,
   "metadata": {},
   "outputs": [],
   "source": [
    "x=40\n",
    "y=76\n",
    "\n",
    "def outer():\n",
    "    global y\n",
    "    y=50\n",
    "    x=10\n",
    "    print(f'nonlocal {x}')\n",
    "    def inner():\n",
    "        #print(f'nonlocal x jin inner{x} ')\n",
    "        nonlocal x\n",
    "        x=30\n",
    "        print(f' inner local of x {x}')\n",
    "    print(f'after inner function value of x {x}')\n",
    "    inner()\n",
    "print(x)\n",
    "print(y)\n",
    "outer()\n",
    "print(y)"
   ]
  },
  {
   "cell_type": "code",
   "execution_count": null,
   "metadata": {},
   "outputs": [],
   "source": [
    "s='PqrS'\n",
    "l=[100,200,300,400]\n",
    "d={s[i]:l[i] for i in range(len(s))}\n",
    "print(d)\n",
    "# d={v:l[k] for k,v in enumerate(s)}\n",
    "# print(d)"
   ]
  },
  {
   "cell_type": "code",
   "execution_count": null,
   "metadata": {},
   "outputs": [],
   "source": [
    "d={i:i*i for i in range(1,11) if i%2==0}\n",
    "print(d)"
   ]
  },
  {
   "cell_type": "code",
   "execution_count": null,
   "metadata": {},
   "outputs": [],
   "source": [
    "class itr():\n",
    "    def __init__(self,star=0,end=0,up=1):\n",
    "        self.star,self.end,self.up=star,end,up\n",
    "    def __iter__(self):\n",
    "        return self\n",
    "    def __next__(self):\n",
    "        if self.star>=self.end:\n",
    "            raise StopIteration\n",
    "        n=self.star\n",
    "        self.star+=self.up\n",
    "        return n\n",
    "j=itr(end=11,up=2)\n",
    "for x in j:\n",
    "    print(x)\n",
    "        "
   ]
  },
  {
   "cell_type": "code",
   "execution_count": null,
   "metadata": {},
   "outputs": [],
   "source": [
    " #Hollow Diamond pattern\n",
    "\n",
    "# Reading number of row\n",
    "row = int(input('Enter number of row: '))\n",
    "\n",
    "# Upper part of hollow diamond\n",
    "for i in range(1, row+1):\n",
    "    for j in range(1,row-i+1):\n",
    "        print(\" \", end=\"\")\n",
    "    for j in range(1, 2*i):\n",
    "        if j==1 or j==2*i-1:\n",
    "            print(\"*\", end=\"\")\n",
    "        else:\n",
    "            print(\" \", end=\"\")\n",
    "    print()\n",
    "\n",
    "# Lower part of hollow diamond\n",
    "for i in range(row-1,0, -1):\n",
    "    for j in range(1,row-i+1):\n",
    "        print(\" \", end=\"\")\n",
    "    for j in range(1, 2*i):\n",
    "        if j==1 or j==2*i-1:\n",
    "            print(\"*\", end=\"\")\n",
    "        else:\n",
    "            print(\" \", end=\"\")\n",
    "    print()"
   ]
  },
  {
   "cell_type": "code",
   "execution_count": null,
   "metadata": {},
   "outputs": [],
   "source": [
    "l=[1,2,3,4,5,6,31]\n",
    "d={i:'odd'if i %2!=0 else 'even' for i in l}\n",
    "d"
   ]
  },
  {
   "cell_type": "code",
   "execution_count": null,
   "metadata": {},
   "outputs": [],
   "source": [
    "def check_prime(n):\n",
    "    l=n\n",
    "    d={}\n",
    "    for x in l:\n",
    "        if x>1:\n",
    "            for y in range(2,x//2+1):\n",
    "                if x%y==0:\n",
    "                    d[x]='not prime'\n",
    "                    break\n",
    "                \n",
    "            else:\n",
    "            \n",
    "                d[x]='prime'\n",
    "        else:\n",
    "            d[x]='not prime'\n",
    "    return d\n",
    "l=[22,32,41,31,15,2,3]\n",
    "x=check_prime(l)\n",
    "print(x)"
   ]
  },
  {
   "cell_type": "code",
   "execution_count": null,
   "metadata": {},
   "outputs": [],
   "source": [
    "n=6\n",
    "st=1\n",
    "for x in range(1,n+1):\n",
    "    num=x\n",
    "    for y in range(1,st+1):\n",
    "        print(num,end=' ')\n",
    "        num+=n-(y)\n",
    "        # print(num)\n",
    "    print()\n",
    "    st+=1"
   ]
  },
  {
   "cell_type": "code",
   "execution_count": null,
   "metadata": {},
   "outputs": [],
   "source": [
    "n=5\n",
    "st=1\n",
    "for x in range(1,n+1):\n",
    "    num=x\n",
    "    for y in range(1,st+1):\n",
    "        print(num,end=' ')\n",
    "        num+=n-y\n",
    "    print()\n",
    "    st+=1"
   ]
  },
  {
   "cell_type": "code",
   "execution_count": null,
   "metadata": {},
   "outputs": [],
   "source": [
    "def outer(arg):\n",
    "    def innr(a,b):\n",
    "        arg(a,b) if a>b else arg(b,a)\n",
    "    return innr\n",
    "\n",
    "\n",
    "@outer\n",
    "def addi(a,b):\n",
    "    print(a/b)\n",
    "addi(3,7)\n",
    "\n"
   ]
  },
  {
   "cell_type": "code",
   "execution_count": null,
   "metadata": {},
   "outputs": [],
   "source": [
    "n=1\n",
    "l=int(input('en lowe prime u need'))\n",
    "u=int(input('enter higher prime u ned'))\n",
    "c=0\n",
    "while True:\n",
    "    if n>1:\n",
    "        for i in range(2,n//2+1):\n",
    "            if n%i==0:\n",
    "                break\n",
    "\n",
    "        else:\n",
    "            c+=1\n",
    "            if c>=l:\n",
    "                print(n)\n",
    "    if c==u:\n",
    "        break\n",
    "\n",
    "    n+=1\n"
   ]
  },
  {
   "cell_type": "code",
   "execution_count": null,
   "metadata": {},
   "outputs": [],
   "source": [
    "for x in range(1,51):\n",
    "    if x>1:\n",
    "        for y in range(2,x//2+1):\n",
    "            if x%y==0:\n",
    "                break\n",
    "        else:\n",
    "            print(x)"
   ]
  },
  {
   "cell_type": "code",
   "execution_count": null,
   "metadata": {},
   "outputs": [],
   "source": [
    "for i in range(5):\n",
    "    for j in range(5):\n",
    "        if i == 0:\n",
    "            print(j + 1, end=\" \")\n",
    "        elif i == 1 and j<=1:\n",
    "            print(j + 8, end=\" \")\n",
    "        elif i == 1 and j==3-1:\n",
    "            print((j + 8)-6, end=\" \")\n",
    "        elif i==2 and j<1:\n",
    "            print((j + 7), end=\" \")\n",
    "        elif i==2 and j==1:\n",
    "             print((j + 7)-2, end=\" \")\n",
    "        else:\n",
    "             print((j + 7)-4, end=\" \")\n",
    "    print()\n"
   ]
  },
  {
   "cell_type": "code",
   "execution_count": null,
   "metadata": {},
   "outputs": [],
   "source": [
    "r=3\n",
    "for x in range(3):\n",
    "    n=1\n",
    "    for y in range(3):\n",
    "        if x==0:\n",
    "            print(n,end=' ')\n",
    "\n",
    "        else:\n",
    "            print(' ',end=' ')\n",
    "        print()\n",
    "        n+=1"
   ]
  },
  {
   "cell_type": "code",
   "execution_count": null,
   "metadata": {},
   "outputs": [],
   "source": [
    "n=5\n",
    "a=1\n",
    "while n!=0:\n",
    "    print('  '*(n-1)+'* '*a)\n",
    "    n-=1\n",
    "    a+=1\n"
   ]
  },
  {
   "cell_type": "code",
   "execution_count": null,
   "metadata": {},
   "outputs": [],
   "source": [
    "def genarator(n):\n",
    "    for x in range(n):\n",
    "        yield x\n",
    "\n",
    "y=genarator(10)\n",
    "for z in y:\n",
    "    print(z)"
   ]
  },
  {
   "cell_type": "code",
   "execution_count": null,
   "metadata": {},
   "outputs": [],
   "source": [
    "import re \n",
    "s='hep hp hheep heeeeep'\n",
    "re.findall('he*p',s)"
   ]
  },
  {
   "cell_type": "code",
   "execution_count": null,
   "metadata": {},
   "outputs": [],
   "source": [
    "n=1\n",
    "for x in range(3):\n",
    "    for y in range(3):\n",
    "        print(n,end=' ')\n",
    "        n+=1\n",
    "    n=n*x+y\n",
    "print()"
   ]
  },
  {
   "cell_type": "code",
   "execution_count": null,
   "metadata": {},
   "outputs": [],
   "source": [
    "def single(arg):\n",
    "    d={}\n",
    "    def inner():\n",
    "        if arg not in d:\n",
    "            d[arg]=arg\n",
    "        return d[arg]\n",
    "    return inner\n",
    "@single\n",
    "class movie():\n",
    "    \n",
    "    def booking():\n",
    "        print('*'*4)\n",
    "\n",
    "j=movie()\n",
    "j.booking()"
   ]
  },
  {
   "cell_type": "code",
   "execution_count": null,
   "metadata": {},
   "outputs": [],
   "source": [
    "class CustomException(Exception):\n",
    "    def __init__(self,message):\n",
    "        self.message=message\n",
    "def Checkeven(n):\n",
    "    if n%2!=0:\n",
    "        raise CustomException('not even')\n",
    "    print('even')\n",
    "try:\n",
    "    Checkeven(6)\n",
    "except CustomException as msg:\n",
    "    print(msg)"
   ]
  },
  {
   "cell_type": "code",
   "execution_count": null,
   "metadata": {},
   "outputs": [],
   "source": [
    "class EvenNumberException(Exception):\n",
    "    def __init__(self, message):\n",
    "        self.message = message\n",
    "\n",
    "def check_even(number):\n",
    "    if number % 2 != 0:\n",
    "        raise EvenNumberException(\"NotEven\")\n",
    "    print(\"Even\")\n",
    "\n",
    "try:\n",
    "    check_even(5)\n",
    "except EvenNumberException as e:\n",
    "    print(e)\n"
   ]
  },
  {
   "cell_type": "code",
   "execution_count": null,
   "metadata": {},
   "outputs": [],
   "source": [
    "help('Exception')"
   ]
  },
  {
   "cell_type": "code",
   "execution_count": null,
   "metadata": {},
   "outputs": [],
   "source": [
    "d={'a':10,'B':20}\n",
    "r=d.popitem()\n",
    "print(r)"
   ]
  },
  {
   "cell_type": "code",
   "execution_count": null,
   "metadata": {},
   "outputs": [],
   "source": [
    "def outer():\n",
    "    x=200\n",
    "    print(f'nonlocal of x {x}')\n",
    "    def inner():\n",
    "        nonlocal x\n",
    "        x=300\n",
    "        print(f'local of x {x}')\n",
    "    inner()\n",
    "    print(f'nonlocal of x {x}')\n",
    "x=500\n",
    "outer()\n",
    "print(f'global x {x}')\n"
   ]
  },
  {
   "cell_type": "code",
   "execution_count": null,
   "metadata": {},
   "outputs": [],
   "source": [
    "class custom(Exception):\n",
    "    def __init__(self, message) -> None:\n",
    "        self.message=message\n",
    "def even(n):\n",
    "    if n%2!=0:\n",
    "        raise custom('NotEven')\n",
    "    return 'even'\n",
    "try:\n",
    "    print(even(int(input())))\n",
    "except custom as msg:\n",
    "    print(msg)\n",
    "        "
   ]
  },
  {
   "cell_type": "code",
   "execution_count": null,
   "metadata": {},
   "outputs": [],
   "source": [
    "def even(n):\n",
    "    if n%2!=0:\n",
    "        raise custom('NotEven')\n",
    "    return 'even'\n",
    "even(10)"
   ]
  },
  {
   "cell_type": "code",
   "execution_count": null,
   "metadata": {},
   "outputs": [],
   "source": [
    "d=[1,3,]\n",
    "d"
   ]
  },
  {
   "cell_type": "code",
   "execution_count": null,
   "metadata": {},
   "outputs": [],
   "source": [
    "n=9\n",
    "l=[1,2,3,4,7,4,5,8]\n",
    "for x in range(0,len(l)):\n",
    "    for y in range(x+1,len(l)):\n",
    "        if l[x]+l[y]==n:\n",
    "            print(l[x],l[y])"
   ]
  },
  {
   "cell_type": "code",
   "execution_count": null,
   "metadata": {},
   "outputs": [],
   "source": [
    "l1=[]\n",
    "l=[1,2,3,4,6,8]\n",
    "for x in range(0,len(l)):\n",
    "    for y in range(x+1,len(l)):\n",
    "        l1.append(abs(l[x]-l[y]))\n",
    "print(min(l1))"
   ]
  },
  {
   "cell_type": "code",
   "execution_count": null,
   "metadata": {},
   "outputs": [],
   "source": [
    "\n",
    "for x in range(1,6):\n",
    "    num=x\n",
    "    for y in range(1,6):\n",
    "        print(num,end=' ')\n",
    "        if x-1==y:\n",
    "            num=1\n",
    "        else:\n",
    "            num+=1\n",
    "    print()"
   ]
  },
  {
   "cell_type": "code",
   "execution_count": null,
   "metadata": {},
   "outputs": [],
   "source": [
    "class Singleton:\n",
    "    __instance = None\n",
    "    \n",
    "    @staticmethod\n",
    "    def getInstance():\n",
    "        if Singleton.__instance is None:\n",
    "            Singleton()\n",
    "        return Singleton.__instance\n",
    "    \n",
    "    def __init__(self):\n",
    "        if Singleton.__instance is not None:\n",
    "            raise Exception(\"This class is a singleton. Please use getInstance method.\")\n",
    "        else:\n",
    "            Singleton.__instance = self\n",
    "on=Singleton()\n"
   ]
  },
  {
   "cell_type": "code",
   "execution_count": null,
   "metadata": {},
   "outputs": [],
   "source": [
    "class excu(Exception):\n",
    "    def __init__(self,msg):\n",
    "        self.msg=msg\n",
    "    def __str__(self):\n",
    "        return self.msg\n",
    "try:\n",
    "    n=int(input())\n",
    "    if n%2!=0:\n",
    "        raise excu('NotEven')\n",
    "except excu as msg:\n",
    "    print(msg)\n",
    "else: \n",
    "    print(('even'))\n"
   ]
  },
  {
   "cell_type": "code",
   "execution_count": null,
   "metadata": {},
   "outputs": [],
   "source": [
    "from abc import ABC,abstractmethod\n",
    "class animal(ABC):\n",
    "    @abstractmethod\n",
    "    def speak(self):\n",
    "        pass\n",
    "    def walk(self):\n",
    "        print('4legs')\n",
    "class dog(animal):\n",
    "    def speak(self):\n",
    "        print('bow bow')\n",
    "class cat(animal):\n",
    "    def speak(self):\n",
    "        print('mawmaw')\n",
    "j=dog()\n",
    "k=cat()\n",
    "j.speak()\n",
    "k.speak()\n",
    "j.walk()\n"
   ]
  },
  {
   "cell_type": "code",
   "execution_count": null,
   "metadata": {},
   "outputs": [],
   "source": [
    "def prime(n,i):\n",
    "    if n==i:\n",
    "        return False\n",
    "    for x in range(2,n//2+1):\n",
    "        if n%x==0:\n",
    "            return False\n",
    "        return True\n",
    "    return prime(n,i+1)\n",
    "prime(131,2)"
   ]
  },
  {
   "cell_type": "code",
   "execution_count": null,
   "metadata": {},
   "outputs": [],
   "source": [
    "s=[{'service':'aws'},{'service':'azure'},{'os':'windows'},{'os':'linux'}]\n",
    "d={}\n",
    "for x in range(len(s)):\n",
    "    for y,z in s[x].items():\n",
    "        if y not in d:\n",
    "            d[y]=[z]\n",
    "        else:\n",
    "            d[y]+=[z]\n",
    "\n",
    "print(d)"
   ]
  },
  {
   "cell_type": "code",
   "execution_count": null,
   "metadata": {},
   "outputs": [],
   "source": [
    "n=7\n",
    "s=n//2\n",
    "st=1\n",
    "for x in range(n):\n",
    "    for y in range(n*2-1):\n",
    "       if y == s*2-x or y==s*2+x:\n",
    "           print('*',end=' ')\n",
    "       else:\n",
    "           print(' ',end=' ')\n",
    "    print()"
   ]
  },
  {
   "cell_type": "code",
   "execution_count": null,
   "metadata": {},
   "outputs": [],
   "source": [
    "class fibinocci():\n",
    "    def __init__(self,start,end,update=1) -> None:\n",
    "        self.start=start\n",
    "        self.end=end\n",
    "        self.uodate=update\n",
    "        self.a,self.b=0,1\n",
    "    def __iter__(self):\n",
    "        return self\n",
    "    def __next__(self):\n",
    "        n=self.start\n",
    "        # f,s=0,1\n",
    "        if self.start>=self.end:\n",
    "            raise StopIteration\n",
    "        r=self.a\n",
    "        self.a,self.b=self.b,self.a+self.b\n",
    "        self.start+=1        \n",
    "        return r\n",
    "obj=fibinocci(10,20)\n",
    "for x in obj:\n",
    "    print(x)"
   ]
  },
  {
   "cell_type": "code",
   "execution_count": null,
   "metadata": {},
   "outputs": [],
   "source": [
    "class fibinocci_2():\n",
    "    def __init__(self,f,s,n):\n",
    "        self.f=f\n",
    "        self.s=s\n",
    "        self.n=n\n",
    "    def __iter__(self):\n",
    "        self.i=1\n",
    "        return self\n",
    "    def __next__(self):\n",
    "        if self.i<=self.n:\n",
    "            res=self.f\n",
    "            self.f,self.s=self.s,res+self.s\n",
    "            self.i+=1\n",
    "            return res\n",
    "        raise StopIteration\n",
    "x=fibinocci_2(5,8,9)\n",
    "for y in x:\n",
    "    print(y)\n"
   ]
  },
  {
   "cell_type": "code",
   "execution_count": null,
   "metadata": {},
   "outputs": [],
   "source": [
    "l=[10,12,4,5,6,76,3]\n",
    "hv=l[0]\n",
    "for y in range(1,len(l)):\n",
    "    if hv<l[y]:\n",
    "        hv=l[y]\n",
    "print(hv)"
   ]
  },
  {
   "cell_type": "code",
   "execution_count": null,
   "metadata": {},
   "outputs": [],
   "source": [
    "l=[12,43,54,13,23]\n",
    "for x in range(len(l)-1):\n",
    "    mi=x\n",
    "    for y in range(x+1,len(l)):\n",
    "        if l[mi]>l[y]:\n",
    "            mi=y\n",
    "    l[x],l[mi]=l[mi],l[x]\n",
    "print(l)\n"
   ]
  },
  {
   "cell_type": "code",
   "execution_count": 3,
   "metadata": {},
   "outputs": [
    {
     "ename": "NameError",
     "evalue": "name 'a' is not defined",
     "output_type": "error",
     "traceback": [
      "\u001b[1;31m---------------------------------------------------------------------------\u001b[0m",
      "\u001b[1;31mNameError\u001b[0m                                 Traceback (most recent call last)",
      "\u001b[1;32m~\\AppData\\Local\\Temp\\ipykernel_32036\\2763777072.py\u001b[0m in \u001b[0;36m<module>\u001b[1;34m\u001b[0m\n\u001b[0;32m      8\u001b[0m     \u001b[1;32mfor\u001b[0m \u001b[0mf\u001b[0m \u001b[1;32min\u001b[0m \u001b[0mrange\u001b[0m\u001b[1;33m(\u001b[0m\u001b[0mx\u001b[0m\u001b[1;33m,\u001b[0m\u001b[0mr\u001b[0m\u001b[1;33m+\u001b[0m\u001b[0mx\u001b[0m\u001b[1;33m)\u001b[0m\u001b[1;33m:\u001b[0m\u001b[1;33m\u001b[0m\u001b[1;33m\u001b[0m\u001b[0m\n\u001b[0;32m      9\u001b[0m         \u001b[1;31m#print(n[f])\u001b[0m\u001b[1;33m\u001b[0m\u001b[1;33m\u001b[0m\u001b[0m\n\u001b[1;32m---> 10\u001b[1;33m         \u001b[0ma\u001b[0m\u001b[1;33m+=\u001b[0m\u001b[0mn\u001b[0m\u001b[1;33m[\u001b[0m\u001b[0mf\u001b[0m\u001b[1;33m]\u001b[0m\u001b[1;33m\u001b[0m\u001b[1;33m\u001b[0m\u001b[0m\n\u001b[0m\u001b[0;32m     11\u001b[0m         \u001b[0mb\u001b[0m\u001b[1;33m.\u001b[0m\u001b[0mappend\u001b[0m\u001b[1;33m(\u001b[0m\u001b[0mn\u001b[0m\u001b[1;33m[\u001b[0m\u001b[0mf\u001b[0m\u001b[1;33m]\u001b[0m\u001b[1;33m)\u001b[0m\u001b[1;33m\u001b[0m\u001b[1;33m\u001b[0m\u001b[0m\n\u001b[0;32m     12\u001b[0m     \u001b[0ml\u001b[0m\u001b[1;33m.\u001b[0m\u001b[0mappend\u001b[0m\u001b[1;33m(\u001b[0m\u001b[0mb\u001b[0m\u001b[1;33m)\u001b[0m\u001b[1;33m\u001b[0m\u001b[1;33m\u001b[0m\u001b[0m\n",
      "\u001b[1;31mNameError\u001b[0m: name 'a' is not defined"
     ]
    }
   ],
   "source": [
    "r=3\n",
    "b=[]\n",
    "l=[]\n",
    "z=[]\n",
    "n=[2,3,7,15,6,8,-4,2]\n",
    "for x in range(len(n)-(r-1)):\n",
    "    #print(n[x])\n",
    "    for f in range(x,r+x):\n",
    "        #print(n[f])\n",
    "        a+=n[f]\n",
    "        b.append(n[f])\n",
    "    l.append(b)\n",
    "    b=[]\n",
    "# print(l)\n",
    "for u in range(len(l)):\n",
    "    for d in range(len(l[u])):\n",
    "        z.append(sum(l[u],0))\n",
    "        break\n",
    "if sum(l[u],0)==max(z):\n",
    "    print(*l[u])\n"
   ]
  },
  {
   "cell_type": "code",
   "execution_count": null,
   "metadata": {},
   "outputs": [],
   "source": [
    "r = 3\n",
    "n = [2, 3, 7, 5, 6, 8, -4, 2]\n",
    "subarrays = [n[i:i+r] for i in range(len(n)-(r-1))]\n",
    "min_sum = float('inf')\n",
    "min_subarray = []\n",
    "\n",
    "for subarray in subarrays:\n",
    "    subarray_sum = sum(subarray)\n",
    "    if subarray_sum < min_sum:\n",
    "        min_sum = subarray_sum\n",
    "        min_subarray = subarray\n",
    "\n",
    "print(*min_subarray)\n"
   ]
  },
  {
   "cell_type": "code",
   "execution_count": null,
   "metadata": {},
   "outputs": [],
   "source": [
    "r=3\n",
    "l=[1,-2,24,6,-7,2,5,3,17]\n",
    "l1=[l[i:i+r]for i in range(len(l)-(r-1))]\n",
    "l2=[sum(x,0)for x in l1]\n",
    "m=min(l2)\n",
    "for y in l1:\n",
    "    if sum(y,0)==m:\n",
    "        print(*y)"
   ]
  },
  {
   "cell_type": "code",
   "execution_count": null,
   "metadata": {},
   "outputs": [],
   "source": [
    "r = 3\n",
    "l = [1, -2, 24, 6, -7, 2, 5, 3, 17]\n",
    "l1 = [l[i:i+r] for i in range(len(l)-(r-1))]\n",
    "l2 = [0]*len(l1)  # create a new list of zeros with the same length as l1\n",
    "print(l2)\n",
    "\n",
    "for i in range(len(l1)):\n",
    "    for j in range(r):\n",
    "        l2[i] += l1[i][j]  # calculate the sum of the ith sublist and store it in the ith position of l2\n",
    "\n",
    "print(l2)\n"
   ]
  },
  {
   "cell_type": "code",
   "execution_count": null,
   "metadata": {},
   "outputs": [],
   "source": [
    "n=123\n",
    "print(rotate(n))"
   ]
  },
  {
   "cell_type": "code",
   "execution_count": 2,
   "metadata": {},
   "outputs": [
    {
     "name": "stdout",
     "output_type": "stream",
     "text": [
      "{'not prime', True}\n"
     ]
    }
   ],
   "source": [
    "# rotatig a number and cheacking a number weather a prime or not\n",
    "def prime(n):\n",
    "    for x in range(2,n//2+1):\n",
    "        if n%x==0:\n",
    "            return 'not prime'\n",
    "    else:\n",
    "        return True\n",
    "    \n",
    "\n",
    "\n",
    "n=int(input())\n",
    "s=str(n)\n",
    "a=0\n",
    "r=len(s)\n",
    "l=[]\n",
    "while True:\n",
    "    k=(s[1:]+s[0])\n",
    "    s=k\n",
    "    #l.append(int(k))\n",
    "    a+=1\n",
    "    l.append(prime(int(k)))\n",
    "    if a==len(s):\n",
    "        break\n",
    "re=set(l)\n",
    "print(re)\n"
   ]
  },
  {
   "cell_type": "code",
   "execution_count": 2,
   "metadata": {},
   "outputs": [
    {
     "ename": "NameError",
     "evalue": "name 'rotate' is not defined",
     "output_type": "error",
     "traceback": [
      "\u001b[1;31m---------------------------------------------------------------------------\u001b[0m",
      "\u001b[1;31mNameError\u001b[0m                                 Traceback (most recent call last)",
      "\u001b[1;32m~\\AppData\\Local\\Temp\\ipykernel_32036\\3169242686.py\u001b[0m in \u001b[0;36m<module>\u001b[1;34m\u001b[0m\n\u001b[0;32m      1\u001b[0m \u001b[0mn\u001b[0m\u001b[1;33m=\u001b[0m\u001b[1;36m1234\u001b[0m\u001b[1;33m\u001b[0m\u001b[1;33m\u001b[0m\u001b[0m\n\u001b[0;32m      2\u001b[0m \u001b[1;31m#pri = [p for p in rotate(n) ]\u001b[0m\u001b[1;33m\u001b[0m\u001b[1;33m\u001b[0m\u001b[0m\n\u001b[1;32m----> 3\u001b[1;33m \u001b[0mprint\u001b[0m\u001b[1;33m(\u001b[0m\u001b[0mrotate\u001b[0m\u001b[1;33m(\u001b[0m\u001b[0mn\u001b[0m\u001b[1;33m)\u001b[0m\u001b[1;33m)\u001b[0m\u001b[1;33m\u001b[0m\u001b[1;33m\u001b[0m\u001b[0m\n\u001b[0m",
      "\u001b[1;31mNameError\u001b[0m: name 'rotate' is not defined"
     ]
    }
   ],
   "source": [
    "n=1234\n",
    "#pri = [p for p in rotate(n) ]\n",
    "print(rotate(n))"
   ]
  },
  {
   "cell_type": "code",
   "execution_count": null,
   "metadata": {},
   "outputs": [],
   "source": [
    "help('rotate')"
   ]
  },
  {
   "cell_type": "code",
   "execution_count": null,
   "metadata": {},
   "outputs": [],
   "source": [
    "def rotate_string_left(s, n):\n",
    "    return s[n:] + s[:n]\n",
    "rotate_string_left('shiva',3)"
   ]
  },
  {
   "cell_type": "code",
   "execution_count": null,
   "metadata": {},
   "outputs": [],
   "source": [
    "s='12345'\n",
    "for x in range(len(s)):\n",
    "    k=s[1:]+s[0]\n",
    "    s=k\n",
    "    print(int(s))"
   ]
  },
  {
   "cell_type": "code",
   "execution_count": 3,
   "metadata": {},
   "outputs": [
    {
     "name": "stdout",
     "output_type": "stream",
     "text": [
      "2\n",
      "7\n",
      "17\n"
     ]
    }
   ],
   "source": [
    "#To print every third prime number\n",
    "n=1\n",
    "a=0\n",
    "b=0\n",
    "while True:\n",
    "    if n>1:\n",
    "        for x in range(2,n//2+1):\n",
    "            if n%x==0:\n",
    "                break\n",
    "        else:\n",
    "            if a==b :\n",
    "                print(n)\n",
    "                a+=3\n",
    "            b+=1\n",
    "    n+=1\n",
    "    if n>=20:\n",
    "        break"
   ]
  },
  {
   "cell_type": "code",
   "execution_count": null,
   "metadata": {},
   "outputs": [],
   "source": []
  },
  {
   "cell_type": "code",
   "execution_count": 1,
   "metadata": {},
   "outputs": [
    {
     "name": "stdout",
     "output_type": "stream",
     "text": [
      "[2, 3, 5, 7, 11, 13, 17, 19]\n"
     ]
    }
   ],
   "source": [
    "# genarating a prime numbers by custom itarator\n",
    "\n",
    "class iterator():\n",
    "    def __init__(self,start,end,up=1):\n",
    "        self.start,self.end,self.up=start,end,up\n",
    "    def __iter__(self):\n",
    "        return self\n",
    "    def __next__(self):\n",
    "        if self.start>=self.end:\n",
    "            raise StopIteration\n",
    "        n=self.start\n",
    "        self.start+=self.up\n",
    "        #return n\n",
    "        if n>1:\n",
    "            for x in range(2,n//2+1):\n",
    "                if n%x==0:\n",
    "                    return\n",
    "            else:\n",
    "                return n\n",
    "obj=iterator(0,20)\n",
    "r=[]\n",
    "for x in obj:\n",
    "    if x != None:\n",
    "        r.append(x)\n",
    "print(r)"
   ]
  },
  {
   "cell_type": "code",
   "execution_count": 19,
   "metadata": {},
   "outputs": [
    {
     "name": "stdout",
     "output_type": "stream",
     "text": [
      "shivaramraj is\n",
      "a awsome and\n",
      "good boy in the\n",
      "institute where\n",
      "he can add his\n",
      "knwlodge to the\n",
      "institute for\n",
      "the growth of\n",
      "the instute\n"
     ]
    }
   ],
   "source": [
    "import textwrap as t\n",
    "s='shivaramraj is a awsome and good boy in the institute where he can add his knwlodge to the institute for the growth of the instute'\n",
    "# wrapped_text = textwrap.wrap(text, width=20)\n",
    "a=list(s)\n",
    "# print(a)\n",
    "r=t.wrap(s,width=15)\n",
    "for x in r:\n",
    "    print(x)"
   ]
  },
  {
   "cell_type": "code",
   "execution_count": 27,
   "metadata": {},
   "outputs": [
    {
     "name": "stdout",
     "output_type": "stream",
     "text": [
      "1 \n",
      "1 2 \n",
      "1 2 3 \n",
      "1 2 3 4 \n",
      "1 2 3 4 5 \n"
     ]
    }
   ],
   "source": [
    "n=5\n",
    "for x in range(1,n+1):\n",
    "    for y in range(1,x+1):\n",
    "        print(y,end=' ')\n",
    "        \n",
    "    print()"
   ]
  },
  {
   "cell_type": "code",
   "execution_count": 17,
   "metadata": {},
   "outputs": [
    {
     "name": "stdout",
     "output_type": "stream",
     "text": [
      "1 2 3 4 5 \n",
      "  1 2 3 4 \n",
      "    1 2 3 \n",
      "      1 2 \n",
      "        1 \n"
     ]
    }
   ],
   "source": [
    "n=5\n",
    "for x in range(1,n+1):\n",
    "    # print(' '*(x-n))\n",
    "    for y in range(x-1):\n",
    "        print(' ',end=' ')\n",
    "    for z in range(1,n-x+2):\n",
    "        print(z,end=' ')\n",
    "    print()"
   ]
  },
  {
   "cell_type": "code",
   "execution_count": 1,
   "metadata": {},
   "outputs": [
    {
     "ename": "ModuleNotFoundError",
     "evalue": "No module named 'my_module'",
     "output_type": "error",
     "traceback": [
      "\u001b[1;31m---------------------------------------------------------------------------\u001b[0m",
      "\u001b[1;31mModuleNotFoundError\u001b[0m                       Traceback (most recent call last)",
      "\u001b[1;32m~\\AppData\\Local\\Temp\\ipykernel_32036\\282076544.py\u001b[0m in \u001b[0;36m<module>\u001b[1;34m\u001b[0m\n\u001b[1;32m----> 1\u001b[1;33m \u001b[1;32mimport\u001b[0m \u001b[0mmy_module\u001b[0m \u001b[1;32mas\u001b[0m \u001b[0mm\u001b[0m\u001b[1;33m\u001b[0m\u001b[1;33m\u001b[0m\u001b[0m\n\u001b[0m\u001b[0;32m      2\u001b[0m \u001b[0mprint\u001b[0m\u001b[1;33m(\u001b[0m\u001b[0mm\u001b[0m\u001b[1;33m.\u001b[0m\u001b[0madd\u001b[0m\u001b[1;33m(\u001b[0m\u001b[1;36m2\u001b[0m\u001b[1;33m,\u001b[0m\u001b[1;36m3\u001b[0m\u001b[1;33m,\u001b[0m\u001b[1;36m4\u001b[0m\u001b[1;33m)\u001b[0m\u001b[1;33m)\u001b[0m\u001b[1;33m\u001b[0m\u001b[1;33m\u001b[0m\u001b[0m\n",
      "\u001b[1;31mModuleNotFoundError\u001b[0m: No module named 'my_module'"
     ]
    }
   ],
   "source": [
    "import my_module as m\n",
    "print(m.add(2,3,4))"
   ]
  },
  {
   "cell_type": "code",
   "execution_count": 1,
   "metadata": {},
   "outputs": [
    {
     "name": "stdout",
     "output_type": "stream",
     "text": [
      "[[1, 2, 3], [2, 3, 4], [3, 4, 5], [4, 5, 6]]\n",
      "[6, 9, 12, 15]\n"
     ]
    }
   ],
   "source": [
    "r=3\n",
    "l=[1,2,3,4,5,6]\n",
    "l1=[l[i:i+r] for i in range(len(l)-(r-1))]\n",
    "r=[sum(x,0) for x in l1]\n",
    "print(l1)\n",
    "print(r)"
   ]
  },
  {
   "cell_type": "code",
   "execution_count": 19,
   "metadata": {},
   "outputs": [
    {
     "name": "stdout",
     "output_type": "stream",
     "text": [
      "fib\n"
     ]
    }
   ],
   "source": [
    "n=int(input())\n",
    "f,s=0,1\n",
    "# for x in range(n+1):\n",
    "while True:\n",
    "    if f==n:\n",
    "        print('fib')\n",
    "        break\n",
    "    f,s=s,f+s\n",
    "    if f>n:\n",
    "        print('not fib')\n",
    "        break"
   ]
  },
  {
   "cell_type": "code",
   "execution_count": 28,
   "metadata": {},
   "outputs": [
    {
     "name": "stdout",
     "output_type": "stream",
     "text": [
      "* \n",
      "* * \n",
      "*   * \n",
      "*     * \n",
      "*   * \n",
      "* * \n",
      "* \n",
      "\n"
     ]
    }
   ],
   "source": [
    "n=7\n",
    "st=1\n",
    "for x in range(n+1):\n",
    "    for y in range(st):\n",
    "        if y==0 or y==st-1:\n",
    "            print('*',end=' ')\n",
    "        else:\n",
    "            print(' ',end=' ')\n",
    "    print()\n",
    "    if x<n//2:\n",
    "        st+=1\n",
    "    else:\n",
    "        st-=1"
   ]
  },
  {
   "cell_type": "code",
   "execution_count": 45,
   "metadata": {},
   "outputs": [
    {
     "name": "stdout",
     "output_type": "stream",
     "text": [
      "1 2 3 4 5 \n",
      "2 1 2 3 4 \n",
      "3 2 1 2 3 \n",
      "4 3 2 1 2 \n",
      "5 4 3 2 1 \n"
     ]
    }
   ],
   "source": [
    "n=5\n",
    "for x in range(n):\n",
    "    num=x+1\n",
    "    for y in range(n):\n",
    "        print(num,end=' ')\n",
    "        if x>y:\n",
    "            num-=1\n",
    "        else:\n",
    "            num+=1\n",
    "\n",
    "    print()\n",
    "    num+=1\n",
    "\n"
   ]
  },
  {
   "cell_type": "code",
   "execution_count": 61,
   "metadata": {},
   "outputs": [
    {
     "name": "stdout",
     "output_type": "stream",
     "text": [
      "1 2 3 4 5 \n",
      "2 2 3 4 5 \n",
      "3 3 3 4 5 \n",
      "4 4 4 4 5 \n",
      "5 5 5 5 5 \n"
     ]
    }
   ],
   "source": [
    "n=5\n",
    "for x in range(n):\n",
    "    num=x+1\n",
    "    for y in range(n):\n",
    "        print(num,end=' ')\n",
    "        if x>y:\n",
    "            num=x+1\n",
    "        else:\n",
    "            num+=1\n",
    "\n",
    "    print()\n",
    "    num+=1\n",
    "\n"
   ]
  },
  {
   "cell_type": "code",
   "execution_count": null,
   "metadata": {},
   "outputs": [],
   "source": []
  }
 ],
 "metadata": {
  "kernelspec": {
   "display_name": "base",
   "language": "python",
   "name": "python3"
  },
  "language_info": {
   "codemirror_mode": {
    "name": "ipython",
    "version": 3
   },
   "file_extension": ".py",
   "mimetype": "text/x-python",
   "name": "python",
   "nbconvert_exporter": "python",
   "pygments_lexer": "ipython3",
   "version": "3.9.13"
  },
  "orig_nbformat": 4,
  "vscode": {
   "interpreter": {
    "hash": "3844a49c18a74871cca5193e45c5e4b46b25b0886fff53449ea495a2f93c944d"
   }
  }
 },
 "nbformat": 4,
 "nbformat_minor": 2
}
