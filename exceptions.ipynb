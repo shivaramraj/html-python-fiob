{
 "cells": [
  {
   "cell_type": "code",
   "execution_count": 7,
   "metadata": {},
   "outputs": [
    {
     "name": "stdout",
     "output_type": "stream",
     "text": [
      "not prime\n",
      "2\n"
     ]
    }
   ],
   "source": [
    "try:\n",
    "    n=int(input('enter number to check given number is prime or not'))\n",
    "    if n>1:\n",
    "        for x in range(2,n//2+1):\n",
    "            if n%x==0:\n",
    "                 print('not prime')\n",
    "                 break\n",
    "        else:\n",
    "            print('prime')\n",
    "except ZeroDivisionError as msg:\n",
    "    print(msg)\n",
    "finally:\n",
    "    print(x)\n"
   ]
  },
  {
   "cell_type": "code",
   "execution_count": 2,
   "metadata": {},
   "outputs": [
    {
     "name": "stdout",
     "output_type": "stream",
     "text": [
      "{'s': 1, 'h': 1, 'i': 1, 'v': 1, 'a': 3, 'r': 2, 'm': 1, 'j': 1}\n"
     ]
    }
   ],
   "source": [
    "s='shivaramraj'\n",
    "d={}\n",
    "for x in s:\n",
    "    if x not in d:\n",
    "        d[x]=s.count(x)\n",
    "print(d)\n",
    "    "
   ]
  },
  {
   "cell_type": "code",
   "execution_count": 7,
   "metadata": {},
   "outputs": [
    {
     "name": "stdout",
     "output_type": "stream",
     "text": [
      "2first program.html\n",
      "2homework attributes.html\n",
      "33assignment11.12.22.html\n",
      "assignement2.html\n",
      "attributes.html\n",
      "bootstap.html\n",
      "button tag.html\n",
      "css.flexbox.html\n",
      "css.html\n",
      "exceptions.ipynb\n",
      "fhdsgfd.py\n",
      "fibonacci.ipynb\n",
      "first program.html\n",
      "God.css\n",
      "God.html\n",
      "godd.html\n",
      "grid.bs.html\n",
      "hari.html\n",
      "heading tags.html\n",
      "huygf.ipynb\n",
      "legend crickters.html\n",
      "marquee tag.html\n",
      "plbram.html\n",
      "rainbow.html\n",
      "reg form.css\n",
      "reg.form.html\n",
      "rrrrrr.html\n",
      "shiva.html\n",
      "shiva.ipynb\n",
      "shiva2.html\n",
      "table.html.homework.html\n",
      "tables.html\n",
      "transform.html\n",
      "vscode.html\n",
      "zomato.bootstrap.html\n"
     ]
    }
   ],
   "source": [
    "import os \n",
    "for x in os.listdir(os.getcwd()):\n",
    "    print(x)"
   ]
  },
  {
   "cell_type": "code",
   "execution_count": 11,
   "metadata": {},
   "outputs": [
    {
     "name": "stdout",
     "output_type": "stream",
     "text": [
      "1\n",
      "2\n",
      "3\n",
      "4\n",
      "5\n"
     ]
    }
   ],
   "source": [
    "class CountUpTo:\n",
    "    def __init__(self, n):\n",
    "        self.count = 1\n",
    "        self.n = n\n",
    "\n",
    "    def __iter__(self):\n",
    "        return self\n",
    "\n",
    "    def __next__(self):\n",
    "        if self.count <= self.n:\n",
    "            result = self.count\n",
    "            self.count += 1\n",
    "            return result\n",
    "        else:\n",
    "            raise StopIteration\n",
    "x=CountUpTo(5)\n",
    "for y in x:\n",
    "    print(y) "
   ]
  },
  {
   "cell_type": "code",
   "execution_count": 11,
   "metadata": {},
   "outputs": [
    {
     "name": "stdout",
     "output_type": "stream",
     "text": [
      "not prime\n",
      "None\n",
      "not prime\n"
     ]
    }
   ],
   "source": [
    "def prime(x):\n",
    "    if x<=1:\n",
    "        return \"not prime\"\n",
    "    else:\n",
    "        for i in range(2,x):\n",
    "            if i%x==0:\n",
    "                return \"prime number\"\n",
    "            else:\n",
    "                return \"not prime\"\n",
    "\n",
    "print(prime(1))\n",
    "print(prime(2))\n",
    "print(prime(21))"
   ]
  },
  {
   "cell_type": "code",
   "execution_count": 13,
   "metadata": {},
   "outputs": [
    {
     "ename": "FileNotFoundError",
     "evalue": "[Errno 2] No such file or directory: 'example.txt'",
     "output_type": "error",
     "traceback": [
      "\u001b[1;31m---------------------------------------------------------------------------\u001b[0m",
      "\u001b[1;31mFileNotFoundError\u001b[0m                         Traceback (most recent call last)",
      "\u001b[1;32m~\\AppData\\Local\\Temp\\ipykernel_22004\\1196640847.py\u001b[0m in \u001b[0;36m<module>\u001b[1;34m\u001b[0m\n\u001b[1;32m----> 1\u001b[1;33m \u001b[1;32mwith\u001b[0m \u001b[0mopen\u001b[0m\u001b[1;33m(\u001b[0m\u001b[1;34m\"example.txt\"\u001b[0m\u001b[1;33m,\u001b[0m \u001b[1;34m\"r\"\u001b[0m\u001b[1;33m)\u001b[0m \u001b[1;32mas\u001b[0m \u001b[0mf\u001b[0m\u001b[1;33m:\u001b[0m\u001b[1;33m\u001b[0m\u001b[1;33m\u001b[0m\u001b[0m\n\u001b[0m\u001b[0;32m      2\u001b[0m     \u001b[1;32mfor\u001b[0m \u001b[0mline\u001b[0m \u001b[1;32min\u001b[0m \u001b[0mf\u001b[0m\u001b[1;33m:\u001b[0m\u001b[1;33m\u001b[0m\u001b[1;33m\u001b[0m\u001b[0m\n\u001b[0;32m      3\u001b[0m         \u001b[0mwords\u001b[0m \u001b[1;33m=\u001b[0m \u001b[0mline\u001b[0m\u001b[1;33m.\u001b[0m\u001b[0msplit\u001b[0m\u001b[1;33m(\u001b[0m\u001b[1;33m)\u001b[0m\u001b[1;33m\u001b[0m\u001b[1;33m\u001b[0m\u001b[0m\n\u001b[0;32m      4\u001b[0m         \u001b[1;32mfor\u001b[0m \u001b[0mword\u001b[0m \u001b[1;32min\u001b[0m \u001b[0mwords\u001b[0m\u001b[1;33m:\u001b[0m\u001b[1;33m\u001b[0m\u001b[1;33m\u001b[0m\u001b[0m\n\u001b[0;32m      5\u001b[0m             \u001b[1;32mif\u001b[0m \u001b[0mword\u001b[0m\u001b[1;33m[\u001b[0m\u001b[1;36m0\u001b[0m\u001b[1;33m]\u001b[0m\u001b[1;33m.\u001b[0m\u001b[0mupper\u001b[0m\u001b[1;33m(\u001b[0m\u001b[1;33m)\u001b[0m \u001b[1;33m==\u001b[0m \u001b[1;34m\"A\"\u001b[0m\u001b[1;33m:\u001b[0m\u001b[1;33m\u001b[0m\u001b[1;33m\u001b[0m\u001b[0m\n",
      "\u001b[1;31mFileNotFoundError\u001b[0m: [Errno 2] No such file or directory: 'example.txt'"
     ]
    }
   ],
   "source": [
    "with open(\"example.txt\", \"r\") as f:\n",
    "    for line in f:\n",
    "        words = line.split()\n",
    "        for word in words:\n",
    "            if word[0].upper() == \"A\":\n",
    "                print(word)\n"
   ]
  },
  {
   "attachments": {},
   "cell_type": "markdown",
   "metadata": {},
   "source": [
    "In this example, the file example.txt is opened in read mode (the \"r\" argument) using a with statement, which automatically closes the file when the block of code is done. The for loop then iterates over each line in the file, and the split() method is used to split the line into a list of words. Another for loop then iterates over the words, and a conditional statement is used to check if the first letter of each word is \"A\" (or \"a\"). If the first letter is \"A\" (or \"a\"), the word is printed to the console.\n",
    "\n",
    "Note that the upper() method is used to convert the first letter of each word to uppercase, to ensure that the comparison with \"A\" is case-insensitive.\n"
   ]
  },
  {
   "cell_type": "code",
   "execution_count": 15,
   "metadata": {},
   "outputs": [
    {
     "name": "stdout",
     "output_type": "stream",
     "text": [
      "A\n"
     ]
    }
   ],
   "source": [
    "s='ahiva'\n",
    "print(s[0].upper())"
   ]
  },
  {
   "cell_type": "code",
   "execution_count": 39,
   "metadata": {},
   "outputs": [
    {
     "name": "stdout",
     "output_type": "stream",
     "text": [
      "ad\n",
      "adbg\n",
      "adbgcj\n"
     ]
    }
   ],
   "source": [
    "s='a3b5c7'\n",
    "r=''\n",
    "for x in range(0,len(s),2):\n",
    "    r+=s[x]+chr(ord(s[x])+int(s[x+1]))\n",
    "    print(r)"
   ]
  },
  {
   "cell_type": "code",
   "execution_count": 47,
   "metadata": {},
   "outputs": [
    {
     "data": {
      "text/plain": [
       "97"
      ]
     },
     "execution_count": 47,
     "metadata": {},
     "output_type": "execute_result"
    }
   ],
   "source": [
    "ord('a')"
   ]
  },
  {
   "cell_type": "code",
   "execution_count": 48,
   "metadata": {},
   "outputs": [
    {
     "data": {
      "text/plain": [
       "'c'"
      ]
     },
     "execution_count": 48,
     "metadata": {},
     "output_type": "execute_result"
    }
   ],
   "source": [
    "chr(97+2)"
   ]
  },
  {
   "cell_type": "code",
   "execution_count": null,
   "metadata": {},
   "outputs": [],
   "source": []
  }
 ],
 "metadata": {
  "kernelspec": {
   "display_name": "base",
   "language": "python",
   "name": "python3"
  },
  "language_info": {
   "codemirror_mode": {
    "name": "ipython",
    "version": 3
   },
   "file_extension": ".py",
   "mimetype": "text/x-python",
   "name": "python",
   "nbconvert_exporter": "python",
   "pygments_lexer": "ipython3",
   "version": "3.9.13 (main, Aug 25 2022, 23:51:50) [MSC v.1916 64 bit (AMD64)]"
  },
  "orig_nbformat": 4,
  "vscode": {
   "interpreter": {
    "hash": "3844a49c18a74871cca5193e45c5e4b46b25b0886fff53449ea495a2f93c944d"
   }
  }
 },
 "nbformat": 4,
 "nbformat_minor": 2
}
